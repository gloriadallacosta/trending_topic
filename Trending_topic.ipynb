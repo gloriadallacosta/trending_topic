{
  "nbformat": 4,
  "nbformat_minor": 0,
  "metadata": {
    "colab": {
      "name": "Untitled12.ipynb",
      "provenance": [],
      "collapsed_sections": []
    },
    "kernelspec": {
      "name": "python3",
      "display_name": "Python 3"
    },
    "language_info": {
      "name": "python"
    },
    "widgets": {
      "application/vnd.jupyter.widget-state+json": {
        "043145a5df764d8b9b2b636d7c4fd8ab": {
          "model_module": "@jupyter-widgets/controls",
          "model_name": "HBoxModel",
          "model_module_version": "1.5.0",
          "state": {
            "_view_name": "HBoxView",
            "_dom_classes": [],
            "_model_name": "HBoxModel",
            "_view_module": "@jupyter-widgets/controls",
            "_model_module_version": "1.5.0",
            "_view_count": null,
            "_view_module_version": "1.5.0",
            "box_style": "",
            "layout": "IPY_MODEL_45c98dcd6d0a43efa26b9eedf332f388",
            "_model_module": "@jupyter-widgets/controls",
            "children": [
              "IPY_MODEL_06571d228df548aaba7a6f9f82eeb672",
              "IPY_MODEL_fd657850ecfe49e88e546b825a575e1a",
              "IPY_MODEL_b50fc4f7a9ae482ea915bf77d534365a"
            ]
          }
        },
        "45c98dcd6d0a43efa26b9eedf332f388": {
          "model_module": "@jupyter-widgets/base",
          "model_name": "LayoutModel",
          "model_module_version": "1.2.0",
          "state": {
            "_view_name": "LayoutView",
            "grid_template_rows": null,
            "right": null,
            "justify_content": null,
            "_view_module": "@jupyter-widgets/base",
            "overflow": null,
            "_model_module_version": "1.2.0",
            "_view_count": null,
            "flex_flow": null,
            "width": null,
            "min_width": null,
            "border": null,
            "align_items": null,
            "bottom": null,
            "_model_module": "@jupyter-widgets/base",
            "top": null,
            "grid_column": null,
            "overflow_y": null,
            "overflow_x": null,
            "grid_auto_flow": null,
            "grid_area": null,
            "grid_template_columns": null,
            "flex": null,
            "_model_name": "LayoutModel",
            "justify_items": null,
            "grid_row": null,
            "max_height": null,
            "align_content": null,
            "visibility": null,
            "align_self": null,
            "height": null,
            "min_height": null,
            "padding": null,
            "grid_auto_rows": null,
            "grid_gap": null,
            "max_width": null,
            "order": null,
            "_view_module_version": "1.2.0",
            "grid_template_areas": null,
            "object_position": null,
            "object_fit": null,
            "grid_auto_columns": null,
            "margin": null,
            "display": null,
            "left": null
          }
        },
        "06571d228df548aaba7a6f9f82eeb672": {
          "model_module": "@jupyter-widgets/controls",
          "model_name": "HTMLModel",
          "model_module_version": "1.5.0",
          "state": {
            "_view_name": "HTMLView",
            "style": "IPY_MODEL_4ae819571d424c68b3f3fc5000e8d5f1",
            "_dom_classes": [],
            "description": "",
            "_model_name": "HTMLModel",
            "placeholder": "​",
            "_view_module": "@jupyter-widgets/controls",
            "_model_module_version": "1.5.0",
            "value": "Batches:  96%",
            "_view_count": null,
            "_view_module_version": "1.5.0",
            "description_tooltip": null,
            "_model_module": "@jupyter-widgets/controls",
            "layout": "IPY_MODEL_03c63201553a40029d07097aa88ef861"
          }
        },
        "fd657850ecfe49e88e546b825a575e1a": {
          "model_module": "@jupyter-widgets/controls",
          "model_name": "FloatProgressModel",
          "model_module_version": "1.5.0",
          "state": {
            "_view_name": "ProgressView",
            "style": "IPY_MODEL_c1e1506ae4ef409aa241577db565f762",
            "_dom_classes": [],
            "description": "",
            "_model_name": "FloatProgressModel",
            "bar_style": "",
            "max": 2204,
            "_view_module": "@jupyter-widgets/controls",
            "_model_module_version": "1.5.0",
            "value": 2108,
            "_view_count": null,
            "_view_module_version": "1.5.0",
            "orientation": "horizontal",
            "min": 0,
            "description_tooltip": null,
            "_model_module": "@jupyter-widgets/controls",
            "layout": "IPY_MODEL_f6320bb793304c57ab33c208fdfcda24"
          }
        },
        "b50fc4f7a9ae482ea915bf77d534365a": {
          "model_module": "@jupyter-widgets/controls",
          "model_name": "HTMLModel",
          "model_module_version": "1.5.0",
          "state": {
            "_view_name": "HTMLView",
            "style": "IPY_MODEL_ba604385e81b433b9e9bdfbc5c098503",
            "_dom_classes": [],
            "description": "",
            "_model_name": "HTMLModel",
            "placeholder": "​",
            "_view_module": "@jupyter-widgets/controls",
            "_model_module_version": "1.5.0",
            "value": " 2107/2204 [4:25:12&lt;06:38,  4.11s/it]",
            "_view_count": null,
            "_view_module_version": "1.5.0",
            "description_tooltip": null,
            "_model_module": "@jupyter-widgets/controls",
            "layout": "IPY_MODEL_022a291a8f1a42a996424f0bbf591904"
          }
        },
        "4ae819571d424c68b3f3fc5000e8d5f1": {
          "model_module": "@jupyter-widgets/controls",
          "model_name": "DescriptionStyleModel",
          "model_module_version": "1.5.0",
          "state": {
            "_view_name": "StyleView",
            "_model_name": "DescriptionStyleModel",
            "description_width": "",
            "_view_module": "@jupyter-widgets/base",
            "_model_module_version": "1.5.0",
            "_view_count": null,
            "_view_module_version": "1.2.0",
            "_model_module": "@jupyter-widgets/controls"
          }
        },
        "03c63201553a40029d07097aa88ef861": {
          "model_module": "@jupyter-widgets/base",
          "model_name": "LayoutModel",
          "model_module_version": "1.2.0",
          "state": {
            "_view_name": "LayoutView",
            "grid_template_rows": null,
            "right": null,
            "justify_content": null,
            "_view_module": "@jupyter-widgets/base",
            "overflow": null,
            "_model_module_version": "1.2.0",
            "_view_count": null,
            "flex_flow": null,
            "width": null,
            "min_width": null,
            "border": null,
            "align_items": null,
            "bottom": null,
            "_model_module": "@jupyter-widgets/base",
            "top": null,
            "grid_column": null,
            "overflow_y": null,
            "overflow_x": null,
            "grid_auto_flow": null,
            "grid_area": null,
            "grid_template_columns": null,
            "flex": null,
            "_model_name": "LayoutModel",
            "justify_items": null,
            "grid_row": null,
            "max_height": null,
            "align_content": null,
            "visibility": null,
            "align_self": null,
            "height": null,
            "min_height": null,
            "padding": null,
            "grid_auto_rows": null,
            "grid_gap": null,
            "max_width": null,
            "order": null,
            "_view_module_version": "1.2.0",
            "grid_template_areas": null,
            "object_position": null,
            "object_fit": null,
            "grid_auto_columns": null,
            "margin": null,
            "display": null,
            "left": null
          }
        },
        "c1e1506ae4ef409aa241577db565f762": {
          "model_module": "@jupyter-widgets/controls",
          "model_name": "ProgressStyleModel",
          "model_module_version": "1.5.0",
          "state": {
            "_view_name": "StyleView",
            "_model_name": "ProgressStyleModel",
            "description_width": "",
            "_view_module": "@jupyter-widgets/base",
            "_model_module_version": "1.5.0",
            "_view_count": null,
            "_view_module_version": "1.2.0",
            "bar_color": null,
            "_model_module": "@jupyter-widgets/controls"
          }
        },
        "f6320bb793304c57ab33c208fdfcda24": {
          "model_module": "@jupyter-widgets/base",
          "model_name": "LayoutModel",
          "model_module_version": "1.2.0",
          "state": {
            "_view_name": "LayoutView",
            "grid_template_rows": null,
            "right": null,
            "justify_content": null,
            "_view_module": "@jupyter-widgets/base",
            "overflow": null,
            "_model_module_version": "1.2.0",
            "_view_count": null,
            "flex_flow": null,
            "width": null,
            "min_width": null,
            "border": null,
            "align_items": null,
            "bottom": null,
            "_model_module": "@jupyter-widgets/base",
            "top": null,
            "grid_column": null,
            "overflow_y": null,
            "overflow_x": null,
            "grid_auto_flow": null,
            "grid_area": null,
            "grid_template_columns": null,
            "flex": null,
            "_model_name": "LayoutModel",
            "justify_items": null,
            "grid_row": null,
            "max_height": null,
            "align_content": null,
            "visibility": null,
            "align_self": null,
            "height": null,
            "min_height": null,
            "padding": null,
            "grid_auto_rows": null,
            "grid_gap": null,
            "max_width": null,
            "order": null,
            "_view_module_version": "1.2.0",
            "grid_template_areas": null,
            "object_position": null,
            "object_fit": null,
            "grid_auto_columns": null,
            "margin": null,
            "display": null,
            "left": null
          }
        },
        "ba604385e81b433b9e9bdfbc5c098503": {
          "model_module": "@jupyter-widgets/controls",
          "model_name": "DescriptionStyleModel",
          "model_module_version": "1.5.0",
          "state": {
            "_view_name": "StyleView",
            "_model_name": "DescriptionStyleModel",
            "description_width": "",
            "_view_module": "@jupyter-widgets/base",
            "_model_module_version": "1.5.0",
            "_view_count": null,
            "_view_module_version": "1.2.0",
            "_model_module": "@jupyter-widgets/controls"
          }
        },
        "022a291a8f1a42a996424f0bbf591904": {
          "model_module": "@jupyter-widgets/base",
          "model_name": "LayoutModel",
          "model_module_version": "1.2.0",
          "state": {
            "_view_name": "LayoutView",
            "grid_template_rows": null,
            "right": null,
            "justify_content": null,
            "_view_module": "@jupyter-widgets/base",
            "overflow": null,
            "_model_module_version": "1.2.0",
            "_view_count": null,
            "flex_flow": null,
            "width": null,
            "min_width": null,
            "border": null,
            "align_items": null,
            "bottom": null,
            "_model_module": "@jupyter-widgets/base",
            "top": null,
            "grid_column": null,
            "overflow_y": null,
            "overflow_x": null,
            "grid_auto_flow": null,
            "grid_area": null,
            "grid_template_columns": null,
            "flex": null,
            "_model_name": "LayoutModel",
            "justify_items": null,
            "grid_row": null,
            "max_height": null,
            "align_content": null,
            "visibility": null,
            "align_self": null,
            "height": null,
            "min_height": null,
            "padding": null,
            "grid_auto_rows": null,
            "grid_gap": null,
            "max_width": null,
            "order": null,
            "_view_module_version": "1.2.0",
            "grid_template_areas": null,
            "object_position": null,
            "object_fit": null,
            "grid_auto_columns": null,
            "margin": null,
            "display": null,
            "left": null
          }
        }
      }
    }
  },
  "cells": [
    {
      "cell_type": "markdown",
      "metadata": {
        "id": "C8YgKmi-9XFh"
      },
      "source": [
        "Download full list of PMID from Pubmed for articles with keywork 'Multiple sclerosis' published from 2000 onwards. For each PMID fetch the abstract"
      ]
    },
    {
      "cell_type": "code",
      "metadata": {
        "id": "TpplSfmk9rqh"
      },
      "source": [
        "%%capture\n",
        "!pip install bertopic\n",
        "!pip install metapub\n",
        "import pandas as pd\n",
        "import numpy as np\n",
        "from metapub import PubMedFetcher\n",
        "fetch = PubMedFetcher()\n",
        "from bertopic import BERTopic\n",
        "from plotly.offline import init_notebook_mode\n",
        "init_notebook_mode(connected=True)"
      ],
      "execution_count": 3,
      "outputs": []
    },
    {
      "cell_type": "code",
      "metadata": {
        "id": "edt1E_7B3nfC"
      },
      "source": [
        "df = pd.read_csv(\"fulldata.csv\")"
      ],
      "execution_count": null,
      "outputs": []
    },
    {
      "cell_type": "code",
      "metadata": {
        "id": "9dFxU9v24Y3Q"
      },
      "source": [
        "df['Abstract']=''"
      ],
      "execution_count": null,
      "outputs": []
    },
    {
      "cell_type": "code",
      "metadata": {
        "id": "koM67TUw8P-S"
      },
      "source": [
        "for index, row in df.iterrows():\n",
        "  try:\n",
        "    pmid = df.loc[index, 'PMID']\n",
        "    abstract = fetch.article_by_pmid(pmid).abstract\n",
        "    df.loc[index, 'Abstract'] = abstract\n",
        "    print(index)\n",
        "  except:\n",
        "    pass"
      ],
      "execution_count": null,
      "outputs": []
    },
    {
      "cell_type": "code",
      "metadata": {
        "id": "DKwImXxn5Tql"
      },
      "source": [
        "df.to_csv(\"fulldata.csv\")"
      ],
      "execution_count": null,
      "outputs": []
    },
    {
      "cell_type": "code",
      "metadata": {
        "colab": {
          "base_uri": "https://localhost:8080/",
          "height": 521
        },
        "id": "DPv-WE2_5C9h",
        "outputId": "81d1917e-73be-4978-b3da-6d667f18df57"
      },
      "source": [
        "df.head()"
      ],
      "execution_count": null,
      "outputs": [
        {
          "output_type": "execute_result",
          "data": {
            "text/html": [
              "<div>\n",
              "<style scoped>\n",
              "    .dataframe tbody tr th:only-of-type {\n",
              "        vertical-align: middle;\n",
              "    }\n",
              "\n",
              "    .dataframe tbody tr th {\n",
              "        vertical-align: top;\n",
              "    }\n",
              "\n",
              "    .dataframe thead th {\n",
              "        text-align: right;\n",
              "    }\n",
              "</style>\n",
              "<table border=\"1\" class=\"dataframe\">\n",
              "  <thead>\n",
              "    <tr style=\"text-align: right;\">\n",
              "      <th></th>\n",
              "      <th>Unnamed: 0</th>\n",
              "      <th>PMID</th>\n",
              "      <th>Title</th>\n",
              "      <th>Authors</th>\n",
              "      <th>Citation</th>\n",
              "      <th>First Author</th>\n",
              "      <th>Journal/Book</th>\n",
              "      <th>Publication Year</th>\n",
              "      <th>Create Date</th>\n",
              "      <th>PMCID</th>\n",
              "      <th>NIHMS ID</th>\n",
              "      <th>DOI</th>\n",
              "      <th>Abstract</th>\n",
              "    </tr>\n",
              "  </thead>\n",
              "  <tbody>\n",
              "    <tr>\n",
              "      <th>0</th>\n",
              "      <td>0</td>\n",
              "      <td>11955556</td>\n",
              "      <td>Multiple sclerosis</td>\n",
              "      <td>Compston A, Coles A.</td>\n",
              "      <td>Lancet. 2002 Apr 6;359(9313):1221-31. doi: 10....</td>\n",
              "      <td>Compston A</td>\n",
              "      <td>Lancet</td>\n",
              "      <td>2002</td>\n",
              "      <td>2002/04/17</td>\n",
              "      <td>NaN</td>\n",
              "      <td>NaN</td>\n",
              "      <td>10.1016/S0140-6736(02)08220-X</td>\n",
              "      <td>Multiple sclerosis is the prototype inflammato...</td>\n",
              "    </tr>\n",
              "    <tr>\n",
              "      <th>1</th>\n",
              "      <td>1</td>\n",
              "      <td>15575796</td>\n",
              "      <td>Exercise and multiple sclerosis</td>\n",
              "      <td>White LJ, Dressendorfer RH.</td>\n",
              "      <td>Sports Med. 2004;34(15):1077-100. doi: 10.2165...</td>\n",
              "      <td>White LJ</td>\n",
              "      <td>Sports Med</td>\n",
              "      <td>2004</td>\n",
              "      <td>2004/12/04</td>\n",
              "      <td>NaN</td>\n",
              "      <td>NaN</td>\n",
              "      <td>10.2165/00007256-200434150-00005</td>\n",
              "      <td>The pathophysiology of multiple sclerosis (MS)...</td>\n",
              "    </tr>\n",
              "    <tr>\n",
              "      <th>2</th>\n",
              "      <td>2</td>\n",
              "      <td>15067307</td>\n",
              "      <td>Multiple sclerosis</td>\n",
              "      <td>Hafler DA.</td>\n",
              "      <td>J Clin Invest. 2004 Mar;113(6):788-94. doi: 10...</td>\n",
              "      <td>Hafler DA</td>\n",
              "      <td>J Clin Invest</td>\n",
              "      <td>2004</td>\n",
              "      <td>2004/04/07</td>\n",
              "      <td>PMC362131</td>\n",
              "      <td>NaN</td>\n",
              "      <td>10.1172/JCI21357</td>\n",
              "      <td>Multiple sclerosis is a complex genetic diseas...</td>\n",
              "    </tr>\n",
              "    <tr>\n",
              "      <th>3</th>\n",
              "      <td>3</td>\n",
              "      <td>15847841</td>\n",
              "      <td>Clinically isolated syndromes suggestive of mu...</td>\n",
              "      <td>Miller D, Barkhof F, Montalban X, Thompson A, ...</td>\n",
              "      <td>Lancet Neurol. 2005 May;4(5):281-8. doi: 10.10...</td>\n",
              "      <td>Miller D</td>\n",
              "      <td>Lancet Neurol</td>\n",
              "      <td>2005</td>\n",
              "      <td>2005/04/26</td>\n",
              "      <td>NaN</td>\n",
              "      <td>NaN</td>\n",
              "      <td>10.1016/S1474-4422(05)70071-5</td>\n",
              "      <td>In 85% of young adults with multiple sclerosis...</td>\n",
              "    </tr>\n",
              "    <tr>\n",
              "      <th>4</th>\n",
              "      <td>4</td>\n",
              "      <td>15102351</td>\n",
              "      <td>Pediatric multiple sclerosis</td>\n",
              "      <td>Banwell BL.</td>\n",
              "      <td>Curr Neurol Neurosci Rep. 2004 May;4(3):245-52...</td>\n",
              "      <td>Banwell BL</td>\n",
              "      <td>Curr Neurol Neurosci Rep</td>\n",
              "      <td>2004</td>\n",
              "      <td>2004/04/23</td>\n",
              "      <td>NaN</td>\n",
              "      <td>NaN</td>\n",
              "      <td>10.1007/s11910-004-0045-1</td>\n",
              "      <td>The onset of multiple sclerosis (MS) in childh...</td>\n",
              "    </tr>\n",
              "  </tbody>\n",
              "</table>\n",
              "</div>"
            ],
            "text/plain": [
              "   Unnamed: 0  ...                                           Abstract\n",
              "0           0  ...  Multiple sclerosis is the prototype inflammato...\n",
              "1           1  ...  The pathophysiology of multiple sclerosis (MS)...\n",
              "2           2  ...  Multiple sclerosis is a complex genetic diseas...\n",
              "3           3  ...  In 85% of young adults with multiple sclerosis...\n",
              "4           4  ...  The onset of multiple sclerosis (MS) in childh...\n",
              "\n",
              "[5 rows x 13 columns]"
            ]
          },
          "metadata": {},
          "execution_count": 29
        }
      ]
    },
    {
      "cell_type": "code",
      "metadata": {
        "id": "RPgcUUfx6UcI"
      },
      "source": [
        "df = df.drop_duplicates()"
      ],
      "execution_count": null,
      "outputs": []
    },
    {
      "cell_type": "code",
      "metadata": {
        "colab": {
          "base_uri": "https://localhost:8080/"
        },
        "id": "65M1H4o56odJ",
        "outputId": "157b649c-576b-469b-ba9d-da3458cf45fe"
      },
      "source": [
        "df.info()"
      ],
      "execution_count": null,
      "outputs": [
        {
          "output_type": "stream",
          "name": "stdout",
          "text": [
            "<class 'pandas.core.frame.DataFrame'>\n",
            "Int64Index: 71509 entries, 0 to 5097\n",
            "Data columns (total 13 columns):\n",
            " #   Column            Non-Null Count  Dtype \n",
            "---  ------            --------------  ----- \n",
            " 0   Unnamed: 0        71509 non-null  int64 \n",
            " 1   PMID              71509 non-null  int64 \n",
            " 2   Title             71509 non-null  object\n",
            " 3   Authors           71335 non-null  object\n",
            " 4   Citation          71509 non-null  object\n",
            " 5   First Author      71334 non-null  object\n",
            " 6   Journal/Book      71509 non-null  object\n",
            " 7   Publication Year  71509 non-null  int64 \n",
            " 8   Create Date       71509 non-null  object\n",
            " 9   PMCID             23824 non-null  object\n",
            " 10  NIHMS ID          4123 non-null   object\n",
            " 11  DOI               67070 non-null  object\n",
            " 12  Abstract          70508 non-null  object\n",
            "dtypes: int64(3), object(10)\n",
            "memory usage: 7.6+ MB\n"
          ]
        }
      ]
    },
    {
      "cell_type": "code",
      "metadata": {
        "id": "LszkXR5y62Qy"
      },
      "source": [
        "df = df[df['Abstract'].notna()]"
      ],
      "execution_count": null,
      "outputs": []
    },
    {
      "cell_type": "code",
      "metadata": {
        "colab": {
          "base_uri": "https://localhost:8080/"
        },
        "id": "63rhG1hY65RQ",
        "outputId": "4b2378e9-4ff6-4efa-e334-ecc1a3c7f56a"
      },
      "source": [
        "df.info()"
      ],
      "execution_count": null,
      "outputs": [
        {
          "output_type": "stream",
          "name": "stdout",
          "text": [
            "<class 'pandas.core.frame.DataFrame'>\n",
            "Int64Index: 70508 entries, 0 to 5097\n",
            "Data columns (total 13 columns):\n",
            " #   Column            Non-Null Count  Dtype \n",
            "---  ------            --------------  ----- \n",
            " 0   Unnamed: 0        70508 non-null  int64 \n",
            " 1   PMID              70508 non-null  int64 \n",
            " 2   Title             70508 non-null  object\n",
            " 3   Authors           70337 non-null  object\n",
            " 4   Citation          70508 non-null  object\n",
            " 5   First Author      70336 non-null  object\n",
            " 6   Journal/Book      70508 non-null  object\n",
            " 7   Publication Year  70508 non-null  int64 \n",
            " 8   Create Date       70508 non-null  object\n",
            " 9   PMCID             23231 non-null  object\n",
            " 10  NIHMS ID          4107 non-null   object\n",
            " 11  DOI               66103 non-null  object\n",
            " 12  Abstract          70508 non-null  object\n",
            "dtypes: int64(3), object(10)\n",
            "memory usage: 7.5+ MB\n"
          ]
        }
      ]
    },
    {
      "cell_type": "code",
      "metadata": {
        "id": "5aBhYGOb_gYY"
      },
      "source": [
        "df = df.reset_index(drop=True)"
      ],
      "execution_count": null,
      "outputs": []
    },
    {
      "cell_type": "code",
      "metadata": {
        "id": "81ko9eI-Rl3n"
      },
      "source": [
        "df = df[~df.Abstract.str.contains(\"(ALS)\")]    \n",
        "df = df[~df.Abstract.str.contains(\"scleroderma\")]    \n",
        "df = df[~df.Abstract.str.contains(\"angiomyolipoma\")]    "
      ],
      "execution_count": null,
      "outputs": []
    },
    {
      "cell_type": "code",
      "metadata": {
        "id": "qlo-OFsQ85eP"
      },
      "source": [
        "titles = list(df['Title'])\n",
        "abstracts = list(df['Abstract'])\n",
        "years = list(df['Publication Year'])"
      ],
      "execution_count": null,
      "outputs": []
    },
    {
      "cell_type": "code",
      "metadata": {
        "colab": {
          "base_uri": "https://localhost:8080/"
        },
        "id": "XxfEK3LY7J6i",
        "outputId": "3a81b627-3c7e-4f66-dc2b-047ebcbe7cdd"
      },
      "source": [
        "len(titles), len(abstracts), len(years)"
      ],
      "execution_count": null,
      "outputs": [
        {
          "output_type": "execute_result",
          "data": {
            "text/plain": [
              "(70508, 70508, 70508)"
            ]
          },
          "metadata": {},
          "execution_count": 53
        }
      ]
    },
    {
      "cell_type": "code",
      "metadata": {
        "id": "tV71WEmLqw_1"
      },
      "source": [
        "topic_model = BERTopic(verbose=True, embedding_model=\"paraphrase-MiniLM-L12-v2\", min_topic_size=50)"
      ],
      "execution_count": 4,
      "outputs": []
    },
    {
      "cell_type": "code",
      "metadata": {
        "colab": {
          "base_uri": "https://localhost:8080/",
          "height": 104,
          "referenced_widgets": [
            "043145a5df764d8b9b2b636d7c4fd8ab",
            "45c98dcd6d0a43efa26b9eedf332f388",
            "06571d228df548aaba7a6f9f82eeb672",
            "fd657850ecfe49e88e546b825a575e1a",
            "b50fc4f7a9ae482ea915bf77d534365a",
            "4ae819571d424c68b3f3fc5000e8d5f1",
            "03c63201553a40029d07097aa88ef861",
            "c1e1506ae4ef409aa241577db565f762",
            "f6320bb793304c57ab33c208fdfcda24",
            "ba604385e81b433b9e9bdfbc5c098503",
            "022a291a8f1a42a996424f0bbf591904"
          ]
        },
        "id": "xh0rCcJX-b4W",
        "outputId": "200a518f-26e6-4587-bfed-3d409b6b1a1e"
      },
      "source": [
        "topics = topic_model.fit_transform(abstracts)"
      ],
      "execution_count": null,
      "outputs": [
        {
          "metadata": {
            "tags": null
          },
          "name": "stderr",
          "output_type": "stream",
          "text": [
            "2021-09-19 12:18:32 a895a3311260 sentence_transformers.SentenceTransformer[403] INFO Load pretrained SentenceTransformer: paraphrase-MiniLM-L12-v2\n",
            "2021-09-19 12:18:33 a895a3311260 sentence_transformers.SentenceTransformer[403] INFO Use pytorch device: cpu\n"
          ]
        },
        {
          "data": {
            "application/vnd.jupyter.widget-view+json": {
              "model_id": "043145a5df764d8b9b2b636d7c4fd8ab",
              "version_major": 2,
              "version_minor": 0
            },
            "text/plain": [
              "Batches:   0%|          | 0/2204 [00:00<?, ?it/s]"
            ]
          },
          "metadata": {},
          "output_type": "display_data"
        }
      ]
    },
    {
      "cell_type": "code",
      "metadata": {
        "id": "BsUDdHE4G_pf"
      },
      "source": [
        "a,b = topics"
      ],
      "execution_count": null,
      "outputs": []
    },
    {
      "cell_type": "code",
      "metadata": {
        "id": "4prTJIhQbkEP"
      },
      "source": [
        "topic_model.get_topic_info()"
      ],
      "execution_count": null,
      "outputs": []
    },
    {
      "cell_type": "code",
      "metadata": {
        "id": "NLrPKhvybj8G"
      },
      "source": [
        "topic_model.visualize_barchart(top_n_topics=9, height=700)"
      ],
      "execution_count": null,
      "outputs": []
    },
    {
      "cell_type": "code",
      "metadata": {
        "id": "w7JjNbmgbjv_"
      },
      "source": [
        "topic_model.visualize_term_rank()"
      ],
      "execution_count": null,
      "outputs": []
    },
    {
      "cell_type": "code",
      "metadata": {
        "id": "LHdPSu07bjZM"
      },
      "source": [
        "topic_model.visualize_term_rank(log_scale=True)"
      ],
      "execution_count": null,
      "outputs": []
    },
    {
      "cell_type": "code",
      "metadata": {
        "id": "og-o7daccA51"
      },
      "source": [
        "topic_model.visualize_topics(top_n_topics=50)"
      ],
      "execution_count": null,
      "outputs": []
    },
    {
      "cell_type": "code",
      "metadata": {
        "id": "NhhTbRCLcGvZ"
      },
      "source": [
        "topic_model.visualize_hierarchy(top_n_topics=50, width=800)"
      ],
      "execution_count": null,
      "outputs": []
    },
    {
      "cell_type": "code",
      "metadata": {
        "id": "cPbQ8EP7cMD5"
      },
      "source": [
        "topic_model.visualize_heatmap(n_clusters=20, top_n_topics=100)"
      ],
      "execution_count": null,
      "outputs": []
    },
    {
      "cell_type": "code",
      "metadata": {
        "id": "ko59CFVGcQK2"
      },
      "source": [
        "topics_over_time = topic_model.topics_over_time(abstracts, topics, years)"
      ],
      "execution_count": null,
      "outputs": []
    },
    {
      "cell_type": "code",
      "metadata": {
        "id": "bEl5xCWwcU7H"
      },
      "source": [
        "topic_model.visualize_topics_over_time(topics_over_time, top_n_topics=20, width=900, height=500)"
      ],
      "execution_count": null,
      "outputs": []
    }
  ]
}